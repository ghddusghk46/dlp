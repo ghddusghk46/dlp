{
  "nbformat": 4,
  "nbformat_minor": 0,
  "metadata": {
    "colab": {
      "provenance": [],
      "authorship_tag": "ABX9TyN03nh6UzJiR91Cux1waeSe",
      "include_colab_link": true
    },
    "kernelspec": {
      "name": "python3",
      "display_name": "Python 3"
    },
    "language_info": {
      "name": "python"
    }
  },
  "cells": [
    {
      "cell_type": "markdown",
      "metadata": {
        "id": "view-in-github",
        "colab_type": "text"
      },
      "source": [
        "<a href=\"https://colab.research.google.com/github/ghddusghk46/dlp/blob/main/inlcass/week02.ipynb\" target=\"_parent\"><img src=\"https://colab.research.google.com/assets/colab-badge.svg\" alt=\"Open In Colab\"/></a>"
      ]
    },
    {
      "cell_type": "code",
      "execution_count": 15,
      "metadata": {
        "colab": {
          "base_uri": "https://localhost:8080/"
        },
        "id": "Vo-NsMKLnG47",
        "outputId": "fbd14496-e1fb-40a9-ef55-f4f5cbb67fa8"
      },
      "outputs": [
        {
          "output_type": "stream",
          "name": "stdout",
          "text": [
            "[6. 7. 8.]\n"
          ]
        }
      ],
      "source": [
        "import tensorflow.compat.v1 as tf\n",
        "tf.disable_v2_behavior()\n",
        "\n",
        "#create a placeholder of type float 34-bit, shape is a vector of 3 elements\n",
        "a = tf.placeholder(tf.float32, shape=[3])\n",
        "\n",
        "#create a constant of type float 34-bit, shape is a vector of 3 elements\n",
        "b = tf.constant([5, 5, 5], tf.float32)\n",
        "\n",
        "#use the placeholder as you would a constant or a varable\n",
        "#c = a + b\n",
        "#short for\n",
        "\n",
        "c= tf.add(a, b)\n",
        "\n",
        "with tf.Session() as sess:\n",
        "  #feed [1, 2, 3] to place holder a via the dict {a: [1, 2, 3]}\n",
        "  #fetch value of c\n",
        "  print(sess.run(c, {a: [1, 2, 3]}))"
      ]
    },
    {
      "cell_type": "code",
      "source": [
        "import tensorflow.compat.v1 as tf\n",
        "tf.disable_v2_behavior()\n",
        "\n",
        "a = tf.placeholder(tf.int32)\n",
        "b = tf.placeholder(tf.int32)\n",
        "\n",
        "addOperation = tf.matmul(a, b)\n",
        "\n",
        "init = tf.global_variables_initializer()\n",
        "\n",
        "with tf.compat.v1.Session() as sess:\n",
        "  sess.run(init)\n",
        "  print(sess.run(addOperation, {a: [[1, 2, 3], [1, 2, 3], [1, 2, 3]], b: [[1, 2, 3], [1, 2, 3], [1, 2, 3]]}))"
      ],
      "metadata": {
        "colab": {
          "base_uri": "https://localhost:8080/"
        },
        "id": "6grCXJ1bnvX2",
        "outputId": "c3a790f6-6037-4d55-99f5-f3dc72bcd40e"
      },
      "execution_count": 22,
      "outputs": [
        {
          "output_type": "stream",
          "name": "stdout",
          "text": [
            "[[ 6 12 18]\n",
            " [ 6 12 18]\n",
            " [ 6 12 18]]\n"
          ]
        }
      ]
    },
    {
      "cell_type": "code",
      "source": [
        "import tensorflow.compat.v1 as tf\n",
        "tf.disable_v2_behavior()\n",
        "\n",
        "a = tf.placeholder(tf.float32)\n",
        "b = tf.constant([5, 5, 5], tf.float32)\n",
        "addOperation = tf.add(a, b)\n",
        "\n",
        "init = tf.global_variables_initializer()\n",
        "\n",
        "with tf.compat.v1.Session() as sess:\n",
        "  sess.run(init)\n",
        "  print(sess.run(addOperation, {a: [1, 2, 3]}))"
      ],
      "metadata": {
        "colab": {
          "base_uri": "https://localhost:8080/"
        },
        "id": "DKagyAi9oepg",
        "outputId": "8f7de74b-ad29-4602-ae6c-fd777dcfd65e"
      },
      "execution_count": 9,
      "outputs": [
        {
          "output_type": "stream",
          "name": "stdout",
          "text": [
            "[6. 7. 8.]\n"
          ]
        }
      ]
    },
    {
      "cell_type": "code",
      "source": [
        "import tensorflow.compat.v1 as tf\n",
        "tf.disable_v2_behavior()\n",
        "\n",
        "a = tf.constant([5, 5, 5], tf.float32) # tf.placeholder(tf.float32)\n",
        "b = tf.constant([5, 5, 5], tf.float32) # tf.placeholder(tf.float32)\n",
        "\n",
        "x1 = tf.add(a, b) # +\n",
        "x2 = tf.subtract(a, b) # -\n",
        "x3 = tf.multiply(a, b) # *\n",
        "x4 = tf.divide(a, b) # %\n",
        "\n",
        "init = tf.global_variables_initializer()\n",
        "\n",
        "with tf.compat.v1.Session() as sess:\n",
        "  sess.run(init)\n",
        "  print(sess.run(x1, {a:[10, 20, 30], b:[1, 2, 3]}))\n",
        "  print(sess.run(x2, {a:[10, 20, 30], b:[1, 2, 3]}))\n",
        "  print(sess.run(x3, {a:[10, 20, 30], b:[1, 2, 3]}))\n",
        "  print(sess.run(x4, {a:[10, 20, 30], b:[1, 2, 3]}))"
      ],
      "metadata": {
        "colab": {
          "base_uri": "https://localhost:8080/"
        },
        "id": "bmOkDwNht72K",
        "outputId": "fcb2dda4-467d-4470-8a0b-81487cc96b62"
      },
      "execution_count": 20,
      "outputs": [
        {
          "output_type": "stream",
          "name": "stdout",
          "text": [
            "[11. 22. 33.]\n",
            "[ 9. 18. 27.]\n",
            "[10. 40. 90.]\n",
            "[10. 10. 10.]\n"
          ]
        }
      ]
    },
    {
      "cell_type": "code",
      "source": [
        "import tensorflow.compat.v1 as tf\n",
        "tf.disable_v2_behavior()\n",
        "\n",
        "a = tf.placeholder(tf.float32)\n",
        "b = tf.placeholder(tf.float32)\n",
        "addOperation = tf.matmul(a, b) # 행렬곱\n",
        "\n",
        "init = tf.global_variables_initializer()\n",
        "\n",
        "with tf.compat.v1.Session() as sess:\n",
        "  sess.run(init)\n",
        "  print(sess.run(addOperation, {a: [[5, 10, 20], [1, 5, 7], [55, 100, 200]], b: [[1, 2, 3], [4, 5, 6], [7, 8, 9]]}))\n",
        "  print(sess.run(addOperation, {a: [[5, 10, 20], [10, 20, 30], [1, 2, 3]], b: [[1], [2], [3]]}))"
      ],
      "metadata": {
        "colab": {
          "base_uri": "https://localhost:8080/"
        },
        "id": "ZAk0G3Mpvz7Y",
        "outputId": "3c4ed997-03ae-48bd-cfad-9d20a2b7b9bb"
      },
      "execution_count": 30,
      "outputs": [
        {
          "output_type": "stream",
          "name": "stdout",
          "text": [
            "[[ 185.  220.  255.]\n",
            " [  70.   83.   96.]\n",
            " [1855. 2210. 2565.]]\n",
            "[[ 85.]\n",
            " [140.]\n",
            " [ 14.]]\n"
          ]
        }
      ]
    },
    {
      "cell_type": "code",
      "source": [
        "import tensorflow.compat.v1 as tf\n",
        "tf.disable_v2_behavior()\n",
        "\n",
        "# x = 10\n",
        "x = tf.Variable(10, name = \"x\")\n",
        "\n",
        "# y = 20\n",
        "y = tf.Variable(20, name = \"y\")\n",
        "\n",
        "# x1 = x + y = 30\n",
        "z1 = tf.add(x, y, name = \"z1\")\n",
        "\n",
        "# z2 = x * y = 200\n",
        "z2 = tf.multiply(x, y, name = \"z2\")\n",
        "\n",
        "# z3 = z1 * z2 = 6000\n",
        "z3 = tf.multiply(z1, z2, name = \"z3\")\n",
        "\n",
        "init = tf.global_variables_initializer()\n",
        "with tf.Session() as sess:\n",
        "  sess.run(init)\n",
        "  writer = tf.summary.FileWriter('./graphs', sess.graph)\n",
        "  # y = tf.Variable(1)로 y값을 1로 바꾸어도 placeholder가 아니고 아래에서부터 위로 진행되기 때문에 y값이 바뀌지 않고 계산된다.\n",
        "  print(sess.run(z3))\n",
        "\n",
        "  writer.close()"
      ],
      "metadata": {
        "colab": {
          "base_uri": "https://localhost:8080/"
        },
        "id": "f-87X2WmysOM",
        "outputId": "6f1a86c8-4f21-46dd-ea8c-ac153a30f64b"
      },
      "execution_count": 34,
      "outputs": [
        {
          "output_type": "stream",
          "name": "stdout",
          "text": [
            "6000\n"
          ]
        }
      ]
    }
  ]
}